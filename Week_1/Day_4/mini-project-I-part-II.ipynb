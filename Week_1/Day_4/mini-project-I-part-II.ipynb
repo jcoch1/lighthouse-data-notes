{
 "cells": [
  {
   "cell_type": "markdown",
   "metadata": {},
   "source": [
    "## Movies\n",
    "In this part of mini-project, we need to have our API-KEY ready because this API won't work without it.\n",
    "\n",
    "We encourage you to look for correct endpoints in [the documentation](https://developers.themoviedb.org/3/account). We can also play around with requests there before copying them to Python."
   ]
  },
  {
   "cell_type": "code",
   "execution_count": 1,
   "metadata": {},
   "outputs": [],
   "source": [
    "import os\n",
    "import json\n",
    "import requests"
   ]
  },
  {
   "cell_type": "markdown",
   "metadata": {},
   "source": [
    "## Demo"
   ]
  },
  {
   "cell_type": "code",
   "execution_count": 41,
   "metadata": {},
   "outputs": [],
   "source": [
    "base = \"https://api.themoviedb.org/3\"\n",
    "url = \"/search/movie\"\n",
    "\n",
    "query = 'titanic'\n",
    "api_key = 'ae352aa8846f82e46be632edd586f83a'\n",
    "params = f'?query={query}&api_key={api_key}' "
   ]
  },
  {
   "cell_type": "code",
   "execution_count": 42,
   "metadata": {},
   "outputs": [],
   "source": [
    "res = requests.get(base+url+params)"
   ]
  },
  {
   "cell_type": "code",
   "execution_count": 43,
   "metadata": {},
   "outputs": [
    {
     "data": {
      "text/plain": [
       "200"
      ]
     },
     "execution_count": 43,
     "metadata": {},
     "output_type": "execute_result"
    }
   ],
   "source": [
    "res.status_code"
   ]
  },
  {
   "cell_type": "code",
   "execution_count": null,
   "metadata": {},
   "outputs": [],
   "source": []
  },
  {
   "cell_type": "code",
   "execution_count": null,
   "metadata": {},
   "outputs": [],
   "source": []
  },
  {
   "cell_type": "code",
   "execution_count": null,
   "metadata": {},
   "outputs": [],
   "source": []
  },
  {
   "cell_type": "markdown",
   "metadata": {},
   "source": [
    "## Task\n",
    "Search for you favorite movie and return the information about the movie:\n",
    "- name\n",
    "- release date\n",
    "- runtime\n",
    "- revenue\n",
    "- length of the overview\n",
    "- number of votes\n",
    "- voting average"
   ]
  },
  {
   "cell_type": "code",
   "execution_count": 26,
   "metadata": {},
   "outputs": [
    {
     "name": "stdout",
     "output_type": "stream",
     "text": [
      "Movie name: The Evil Dead\n",
      "Release Date: 1981-09-10\n",
      "Runtime: 85 minutes\n",
      "Revenue: $29400000\n",
      "Length of overview: 200 words\n",
      "Number of votes: 2171\n",
      "Voting average: 7.3\n",
      "https://api.themoviedb.org/3/movie/764-The-Evil-Dead?query=Evil Dead&api_key=ae352aa8846f82e46be632edd586f83a\n"
     ]
    }
   ],
   "source": [
    "base = \"https://api.themoviedb.org/3\"\n",
    "url = \"/search/movie\"\n",
    "\n",
    "query = 'Evil Dead'\n",
    "api_key = 'ae352aa8846f82e46be632edd586f83a'\n",
    "params = f'?query={query}&api_key={api_key}'\n",
    "res = requests.get(base+url+params)\n",
    "\n",
    "\n",
    "def task_1(res):\n",
    "    fav_movie = res.json()['results'][1]\n",
    "    res_2 = requests.get(base+'/movie/'+str(fav_movie['id'])+'-'+'-'.join(fav_movie['title'].split()) + params)\n",
    "    fav_movie_detail = res_2.json()\n",
    "    print('Movie name: ' + fav_movie['title'])\n",
    "    print('Release Date: ' + fav_movie['release_date'])\n",
    "    print('Runtime: ' + str(fav_movie_detail['runtime']) + ' minutes')\n",
    "    print('Revenue: $' + str(fav_movie_detail['revenue']))\n",
    "    print('Length of overview: ' + str(len(fav_movie['overview'])) + ' words')\n",
    "    print('Number of votes: ' + str(fav_movie['vote_count']))\n",
    "    print('Voting average: ' + str(fav_movie['vote_average']))\n",
    "    print(base+'/movie/'+str(fav_movie['id'])+'-'+'-'.join(fav_movie['title'].split()) + params)    \n",
    "task_1(res)"
   ]
  },
  {
   "cell_type": "code",
   "execution_count": null,
   "metadata": {},
   "outputs": [],
   "source": []
  },
  {
   "cell_type": "code",
   "execution_count": null,
   "metadata": {},
   "outputs": [],
   "source": []
  },
  {
   "cell_type": "markdown",
   "metadata": {},
   "source": [
    "## Task\n",
    "Search for you favorite actor/actress and return the information about him/her:\n",
    "- name\n",
    "- date of birth\n",
    "- place of birth\n",
    "- length of the biography"
   ]
  },
  {
   "cell_type": "code",
   "execution_count": null,
   "metadata": {},
   "outputs": [],
   "source": []
  },
  {
   "cell_type": "code",
   "execution_count": 33,
   "metadata": {},
   "outputs": [
    {
     "name": "stdout",
     "output_type": "stream",
     "text": [
      "{'popularity': 11.551, 'known_for_department': 'Acting', 'name': 'Liam Neeson', 'id': 3896, 'profile_path': '/wloLd5YrrlRPiTgfaMJsAx7U6hr.jpg', 'adult': False, 'known_for': [{'poster_path': '/85cWkCVftiVs0BVey6pxX8uNmLt.jpg', 'vote_count': 16358, 'video': False, 'media_type': 'movie', 'id': 49026, 'adult': False, 'backdrop_path': '/cKPfiu9IcCW0fMdKdQBXe3PRtTZ.jpg', 'original_language': 'en', 'original_title': 'The Dark Knight Rises', 'genre_ids': [28, 80, 18, 53], 'title': 'The Dark Knight Rises', 'vote_average': 7.7, 'overview': \"Following the death of District Attorney Harvey Dent, Batman assumes responsibility for Dent's crimes to protect the late attorney's reputation and is subsequently hunted by the Gotham City Police Department. Eight years later, Batman encounters the mysterious Selina Kyle and the villainous Bane, a new terrorist leader who overwhelms Gotham's finest. The Dark Knight resurfaces to protect a city that has branded him an enemy.\", 'release_date': '2012-07-16'}, {'poster_path': '/8RW2runSEc34IwKN2D1aPcJd2UL.jpg', 'vote_count': 14652, 'video': False, 'media_type': 'movie', 'id': 272, 'adult': False, 'backdrop_path': '/lh5lbisD4oDbEKgUxoRaZU8HVrk.jpg', 'original_language': 'en', 'original_title': 'Batman Begins', 'genre_ids': [28, 80, 18], 'title': 'Batman Begins', 'vote_average': 7.7, 'overview': 'Driven by tragedy, billionaire Bruce Wayne dedicates his life to uncovering and defeating the corruption that plagues his home, Gotham City.  Unable to work within the system, he instead creates a new identity, a symbol of fear for the criminal underworld - The Batman.', 'release_date': '2005-06-10'}, {'poster_path': '/c8Ass7acuOe4za6DhSattE359gr.jpg', 'vote_count': 10059, 'video': False, 'media_type': 'movie', 'id': 424, 'adult': False, 'backdrop_path': '/w2ezhZUk7ZJH9Mdk1Y6CTmaDRg5.jpg', 'original_language': 'en', 'original_title': \"Schindler's List\", 'genre_ids': [18, 36, 10752], 'title': \"Schindler's List\", 'vote_average': 8.6, 'overview': 'The true story of how businessman Oskar Schindler saved over a thousand Jewish lives from the Nazis while they worked as slaves in his factory during World War II.', 'release_date': '1993-11-30'}], 'gender': 2}\n",
      "Name: Liam Neeson\n",
      "Length of biography is: \n"
     ]
    }
   ],
   "source": [
    "base = \"https://api.themoviedb.org/3\"\n",
    "url_actor = \"/search/person\"\n",
    "query_actor = 'liam neeson'\n",
    "api_key = 'ae352aa8846f82e46be632edd586f83a'\n",
    "params_actor = f'?query={query_actor}&api_key={api_key}' \n",
    "res_actor = requests.get(base+url_actor+params_actor)\n",
    "print(res_actor.json()['results'][0])\n",
    "\n",
    "def task_2(res):\n",
    "    fav_actor = res.json()['results'][0]\n",
    "    \n",
    "    \n",
    "    print('Name: ' + fav_actor['name'])\n",
    "    print('Length of biography is: ' )\n",
    "task_2(res_actor)"
   ]
  },
  {
   "cell_type": "code",
   "execution_count": 30,
   "metadata": {},
   "outputs": [
    {
     "name": "stdout",
     "output_type": "stream",
     "text": [
      "https://api.themoviedb.org/3/person/3896-liam-neeson?query=liam-neeson&api_key=ae352aa8846f82e46be632edd586f83a\n"
     ]
    },
    {
     "data": {
      "text/plain": [
       "{'errors': ['id is not a valid integer']}"
      ]
     },
     "execution_count": 30,
     "metadata": {},
     "output_type": "execute_result"
    }
   ],
   "source": [
    "fav_actor = res_actor.json()['results'][0]\n",
    "fav_actor_detail = requests.get(base+'/person/{}-'.format(5293)+'-'.join(fav_actor['name'].lower().split())+params_actor)\n",
    "print(base+'/person/'+str(fav_actor['id'])+'-'+'-'.join(fav_actor['name'].lower().split())+params_actor)\n",
    "\n",
    "fav_actor_detail.json()"
   ]
  },
  {
   "cell_type": "code",
   "execution_count": null,
   "metadata": {},
   "outputs": [],
   "source": []
  },
  {
   "cell_type": "markdown",
   "metadata": {},
   "source": [
    "## Task\n",
    "Search for you favorite tv-show and return the information about it:\n",
    "- name\n",
    "- first air date\n",
    "- number of seasons\n",
    "- number of episodes\n",
    "- genres"
   ]
  },
  {
   "cell_type": "code",
   "execution_count": 27,
   "metadata": {},
   "outputs": [
    {
     "name": "stdout",
     "output_type": "stream",
     "text": [
      "Favourite show name is: Buffy the Vampire Slayer\n",
      "Favourite show first air date is: 1997-03-10\n",
      "Number of seasons is: 7\n",
      "Number of episodes is: 146\n",
      "Favourite show genres are: Comedy, Drama, Sci-Fi & Fantasy, Action & Adventure\n"
     ]
    }
   ],
   "source": [
    "base = \"https://api.themoviedb.org/3\"\n",
    "url_show = \"/search/tv\"\n",
    "query_show = 'Buffy the vampire slayer'\n",
    "api_key = 'ae352aa8846f82e46be632edd586f83a'\n",
    "params_show = f'?query={query_show}&api_key={api_key}' \n",
    "res_show = requests.get(base+url_show+params_show)\n",
    "res_show.json()\n",
    "\n",
    "def task_3(res):\n",
    "    episode_count = 0\n",
    "    genres = []\n",
    "    fav_show = res_show.json()['results'][0]\n",
    "    print('Favourite show name is: ' + fav_show['name'])\n",
    "    print('Favourite show first air date is: ' + fav_show['first_air_date'])\n",
    "    fav_show_details = requests.get(base+'/tv/'+str(fav_show['id'])+'-'+'-'.join(fav_show['name'].split()) + params_show).json()\n",
    "    print('Number of seasons is: ' + str(fav_show_details['seasons'][-1]['season_number']))\n",
    "    #print(base+'/tv/'+str(fav_show['id'])+'-'+'-'.join(fav_show['name'].split()) + params_show)\n",
    "    for season in fav_show_details['seasons']:\n",
    "        episode_count += season['episode_count']\n",
    "    print('Number of episodes is: ' + str(episode_count))\n",
    "    for genre in fav_show_details['genres']:\n",
    "        genres.append(genre['name'])\n",
    "    print('Favourite show genres are: ' + ', '.join(genres))\n",
    "task_3(res_show)"
   ]
  },
  {
   "cell_type": "code",
   "execution_count": null,
   "metadata": {},
   "outputs": [],
   "source": []
  },
  {
   "cell_type": "code",
   "execution_count": null,
   "metadata": {},
   "outputs": [],
   "source": []
  },
  {
   "cell_type": "markdown",
   "metadata": {},
   "source": [
    "## Task \n",
    "Find top 5 trending:\n",
    "- movies\n",
    "- tv-shows\n",
    "- people"
   ]
  },
  {
   "cell_type": "code",
   "execution_count": 14,
   "metadata": {},
   "outputs": [
    {
     "name": "stdout",
     "output_type": "stream",
     "text": [
      "The Old Guard\n",
      "Greyhound\n",
      "Ad Astra\n",
      "Joker\n",
      "Avengers: Infinity War\n"
     ]
    }
   ],
   "source": [
    "base = \"https://api.themoviedb.org/3\"\n",
    "url_pop_movie = \"/discover/movie?sort_by=popularity.desc\"\n",
    "api_key = 'ae352aa8846f82e46be632edd586f83a'\n",
    "api = f'&api_key={api_key}' \n",
    "res_pop_movie = requests.get(base+url_pop_movie+api)\n",
    "for pop_movie in res_pop_movie.json()['results'][0:5]:\n",
    "    print(pop_movie['title'])"
   ]
  },
  {
   "cell_type": "code",
   "execution_count": 15,
   "metadata": {},
   "outputs": [
    {
     "name": "stdout",
     "output_type": "stream",
     "text": [
      "Law & Order: Special Victims Unit\n",
      "Supernatural\n",
      "Dark Desire\n",
      "The Simpsons\n",
      "Cursed\n"
     ]
    }
   ],
   "source": [
    "base = \"https://api.themoviedb.org/3\"\n",
    "url_pop_show = \"/discover/tv?sort_by=popularity.desc\"\n",
    "api_key = 'ae352aa8846f82e46be632edd586f83a'\n",
    "api = f'&api_key={api_key}' \n",
    "res_pop_show = requests.get(base+url_pop_show+api)\n",
    "for pop_show in res_pop_show.json()['results'][0:5]:\n",
    "    print(pop_show['name'])"
   ]
  },
  {
   "cell_type": "code",
   "execution_count": 25,
   "metadata": {},
   "outputs": [
    {
     "name": "stdout",
     "output_type": "stream",
     "text": [
      "https://api.themoviedb.org/3/discover/person?sort_by=popularity.desc&api_key=ae352aa8846f82e46be632edd586f83a\n"
     ]
    },
    {
     "data": {
      "text/plain": [
       "{'status_code': 34,\n",
       " 'status_message': 'The resource you requested could not be found.'}"
      ]
     },
     "execution_count": 25,
     "metadata": {},
     "output_type": "execute_result"
    }
   ],
   "source": [
    "base = \"https://api.themoviedb.org/3\"\n",
    "url_pop_person = \"/discover/person?sort_by=popularity.desc\"\n",
    "api_key = 'ae352aa8846f82e46be632edd586f83a'\n",
    "api = f'&api_key={api_key}' \n",
    "res_pop_person = requests.get(base+url_pop_person+api)\n",
    "print(base+url_pop_person+api)\n",
    "\n",
    "res_pop_person.json()"
   ]
  },
  {
   "cell_type": "code",
   "execution_count": null,
   "metadata": {},
   "outputs": [],
   "source": []
  },
  {
   "cell_type": "code",
   "execution_count": null,
   "metadata": {},
   "outputs": [],
   "source": []
  },
  {
   "cell_type": "code",
   "execution_count": null,
   "metadata": {},
   "outputs": [],
   "source": []
  }
 ],
 "metadata": {
  "kernelspec": {
   "display_name": "Python 3",
   "language": "python",
   "name": "python3"
  },
  "language_info": {
   "codemirror_mode": {
    "name": "ipython",
    "version": 3
   },
   "file_extension": ".py",
   "mimetype": "text/x-python",
   "name": "python",
   "nbconvert_exporter": "python",
   "pygments_lexer": "ipython3",
   "version": "3.7.6"
  }
 },
 "nbformat": 4,
 "nbformat_minor": 4
}
