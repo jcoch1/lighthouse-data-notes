{
 "cells": [
  {
   "cell_type": "markdown",
   "metadata": {},
   "source": [
    "## Poker Hand\n",
    "\n",
    "In this challenge, we have to find out which kind of Poker combination is present in a deck of 5 cards.Every card is a string containing the card value (with the upper-case initial for face-cards) and the lower-case initial for suits, as in the examples below:\n",
    "\n",
    "> \"Ah\" ➞ Ace of hearts <br>\n",
    "> \"Ks\" ➞ King of spades<br>\n",
    "> \"3d\" ➞ Three of diamonds<br>\n",
    "> \"Qc\" ➞ Queen of clubs <br>\n",
    "\n",
    "There are 10 different combinations. Here's the list, in decreasing order of importance:"
   ]
  },
  {
   "cell_type": "markdown",
   "metadata": {},
   "source": [
    "| Name            | Description                                         |\n",
    "|-----------------|-----------------------------------------------------|\n",
    "| Royal Flush     | A, K, Q, J, 10, all with the same suit.             |\n",
    "| Straight Flush  | Five cards in sequence, all with the same suit.     |\n",
    "| Four of a Kind  | Four cards of the same rank.                        |\n",
    "| Full House      | Three of a Kind with a Pair.                        |\n",
    "| Flush           | Any five cards of the same suit, not in sequence    |\n",
    "| Straight        | Five cards in a sequence, but not of the same suit. |\n",
    "| Three of a Kind | Three cards of the same rank.                       |\n",
    "| Two Pair        | Two different Pairs.                                |\n",
    "| Pair            | Two cards of the same rank.                         |\n",
    "| High Card       | No other valid combination.                         |"
   ]
  },
  {
   "cell_type": "markdown",
   "metadata": {},
   "source": [
    "### 1. Given a list `hand` containing five strings being the cards, implement a function `poker_hand_ranking` that returns a string with the name of the **highest** combination obtained, accordingly to the table above.\n",
    "\n",
    "#### Examples\n",
    "\n",
    "> poker_hand_ranking([\"10h\", \"Jh\", \"Qh\", \"Ah\", \"Kh\"]) ➞ \"Royal Flush\"<br>\n",
    "> poker_hand_ranking([\"3h\", \"5h\", \"Qs\", \"9h\", \"Ad\"]) ➞ \"High Card\"<br>\n",
    "> poker_hand_ranking([\"10s\", \"10c\", \"8d\", \"10d\", \"10h\"]) ➞ \"Four of a Kind\"<br>"
   ]
  },
  {
   "cell_type": "code",
   "execution_count": 106,
   "metadata": {},
   "outputs": [],
   "source": [
    "from collections import Counter\n",
    "def poker_hand_ranking(hand):\n",
    "    suits = [card[-1] for card in hand]\n",
    "    ranks = [card[:-1] for card in hand]\n",
    "    ranks_num = []\n",
    "    pair = 0\n",
    "    three_kind = False\n",
    "    four_kind = False\n",
    "    flush = False\n",
    "    straight = False\n",
    "    # Face cards into numbers\n",
    "    for card in ranks:\n",
    "        if card == 'J':\n",
    "            ranks_num.append(11)\n",
    "        elif card == 'Q':\n",
    "            ranks_num.append(12)\n",
    "        elif card == 'K':\n",
    "            ranks_num.append(13)\n",
    "        elif card == 'A':\n",
    "            ranks_num.append(14)\n",
    "        else:\n",
    "            ranks_num.append(int(card))\n",
    "    # Sort ranks\n",
    "    ranks_num.sort()\n",
    "    \n",
    "    #Check for pairs/3 of kinds/4 of kinds\n",
    "    count = Counter(ranks_num)\n",
    "    for key in count:\n",
    "        if count[key] == 2:\n",
    "            pair += 1\n",
    "        elif count[key] == 3:\n",
    "            three_kind = True\n",
    "        elif count[key] == 4:\n",
    "            four_kind = True\n",
    "    #Check for flush and straight\n",
    "    if len(set(suits)) == 1:\n",
    "        flush = True\n",
    "    if len(set(ranks_num)) == 5 and ranks_num[0] + 4 == ranks_num[4]:\n",
    "        straight = True\n",
    "    elif len(set(ranks_num)) == 5 and ranks_num[0] == 2 and 5 == ranks_num[3] and 14 in ranks_num:\n",
    "        straight = True\n",
    "        \n",
    "    if flush and straight and ranks_num[0] == 10:\n",
    "        return \"Royal Flush\"\n",
    "    elif flush and straight:\n",
    "        return 'Straight Flush'\n",
    "    elif four_kind:\n",
    "        return 'Four of a kind'\n",
    "    elif three_kind and pair == 1:\n",
    "        return 'Full House'\n",
    "    elif flush and not straight:\n",
    "        return 'Flush'\n",
    "    elif straight and not flush:\n",
    "        return 'Straight'\n",
    "    elif three_kind:\n",
    "        return 'Three of a kind'\n",
    "    elif pair == 2:\n",
    "        return 'Two Pair'\n",
    "    elif pair == 1:\n",
    "        return 'Pair'\n",
    "    else:\n",
    "        return 'High Card'\n",
    "    \n"
   ]
  },
  {
   "cell_type": "code",
   "execution_count": 107,
   "metadata": {},
   "outputs": [
    {
     "name": "stdout",
     "output_type": "stream",
     "text": [
      "Royal Flush\n",
      "Straight Flush\n",
      "Four of a kind\n",
      "Full House\n",
      "Flush\n",
      "Straight\n",
      "Three of a kind\n",
      "Two Pair\n",
      "Pair\n",
      "High Card\n"
     ]
    }
   ],
   "source": [
    "print(poker_hand_ranking([\"10h\", \"Jh\", \"Qh\", \"Ah\", \"Kh\"]))\n",
    "print(poker_hand_ranking([\"5h\", \"4h\", \"3h\", \"2h\", \"Ah\"]))\n",
    "print(poker_hand_ranking([\"10s\", \"10c\", \"8d\", \"10d\", \"10h\"]))\n",
    "print(poker_hand_ranking([\"10s\", \"10c\", \"8d\", \"8c\", \"10h\"]))\n",
    "print(poker_hand_ranking([\"7h\", \"Jh\", \"Qh\", \"Ah\", \"Kh\"]))\n",
    "print(poker_hand_ranking([\"10c\", \"Jh\", \"Qh\", \"Ah\", \"Kh\"]))\n",
    "print(poker_hand_ranking([\"10s\", \"10c\", \"8d\", \"4d\", \"10h\"]))\n",
    "print(poker_hand_ranking([\"10s\", \"10c\", \"8d\", \"2d\", \"8h\"]))\n",
    "print(poker_hand_ranking([\"Qc\", \"Jh\", \"Qh\", \"Ah\", \"Kh\"]))\n",
    "print(poker_hand_ranking([\"3h\", \"5h\", \"Qs\", \"9h\", \"Ad\"]))\n"
   ]
  },
  {
   "cell_type": "code",
   "execution_count": 70,
   "metadata": {},
   "outputs": [
    {
     "name": "stdout",
     "output_type": "stream",
     "text": [
      "Counter({'Qc': 1, 'Jh': 1, 'Qh': 1, 'Ah': 1, 'Kh': 1})\n"
     ]
    }
   ],
   "source": []
  },
  {
   "cell_type": "markdown",
   "metadata": {},
   "source": [
    "### 2.  Implement a function `winner_is` that returns the winner given a dictionary with different players and their hands. For example:\n",
    "\n",
    "#### Example\n",
    "\n",
    "We define dictionary like\n",
    "```\n",
    "round_1 = {\"John\" = [\"10h\", \"Jh\", \"Qh\", \"Ah\", \"Kh\"], \n",
    "        \"Peter\" = [\"3h\", \"5h\", \"Qs\", \"9h\", \"Ad\"]\n",
    "}\n",
    "```\n",
    "\n",
    "Our function returns the name of the winner:\n",
    "> winner_is(round_1) -> \"John\"\n",
    "\n",
    "One table can have up to 10 players.\n"
   ]
  },
  {
   "cell_type": "code",
   "execution_count": 115,
   "metadata": {},
   "outputs": [],
   "source": [
    "round_1 = {\"John\" : [\"3h\", \"5h\", \"Qs\", \"9h\", \"Ad\"], \n",
    "        \"Peter\" : [\"3h\", \"5h\", \"Qs\", \"9h\", \"Ad\"],\n",
    "        \"Steve\" : [\"7h\", \"Jh\", \"Qh\", \"Ah\", \"Kh\"]\n",
    "          }\n",
    "\n",
    "def winner_is(players_dict):\n",
    "    hands_list = ['High Card', 'Pair', 'Two Pair', 'Three of a kind', 'Straight', 'Flush', 'Full House', 'Four of a kind', 'Straight Flush', \n",
    "                 'Royal Flush']\n",
    "    winner = ''\n",
    "    best_hand = 0\n",
    "    for player in players_dict.keys():\n",
    "        if hands_list.index(poker_hand_ranking(players_dict[player])) > best_hand:\n",
    "            best_hand = hands_list.index(poker_hand_ranking(players_dict[player]))\n",
    "            winner = player\n",
    "    return winner, hands_list[best_hand]"
   ]
  },
  {
   "cell_type": "code",
   "execution_count": 116,
   "metadata": {},
   "outputs": [
    {
     "data": {
      "text/plain": [
       "('Steve', 'Flush')"
      ]
     },
     "execution_count": 116,
     "metadata": {},
     "output_type": "execute_result"
    }
   ],
   "source": [
    "winner_is(round_1)"
   ]
  },
  {
   "cell_type": "code",
   "execution_count": null,
   "metadata": {},
   "outputs": [],
   "source": [
    "### Optional: Create a generator that randomly gives 5 cards to every player given a list of player names\n",
    "#### Example\n",
    "\n",
    "> distribute_cards([\"John\",\"Peter\"])  -> round_1 = {\"John\" = [\"10h\", \"Jh\", \"Qh\", \"Ah\", \"Kh\"], \n",
    "        \"Peter\" = [\"3h\", \"5h\", \"Qs\", \"9h\", \"Ad\"]\n",
    "}"
   ]
  },
  {
   "cell_type": "code",
   "execution_count": 130,
   "metadata": {},
   "outputs": [],
   "source": [
    "import numpy as np\n",
    "player_list = ['Jay','Sylvia','Marco','Julien','Phani','Kyle','Davey','Arnup','Louisa','Apollo']\n",
    "def distribute_cards(player_list):\n",
    "    deal = {}\n",
    "    suits = ['h','c','d','s']\n",
    "    ranks = ['2','3','4','5','6','7','8','9','10','J','Q','K','A']\n",
    "    for player in player_list:\n",
    "        deal[player] = [ranks[np.random.randint(0,13)] + suits[np.random.randint(0,3)] for x in range(5)]\n",
    "        \n",
    "    return deal"
   ]
  },
  {
   "cell_type": "code",
   "execution_count": 243,
   "metadata": {},
   "outputs": [
    {
     "data": {
      "text/plain": [
       "{'Straight Flush': '0.03%',\n",
       " 'Four of a kind': '2.3800000000000003%',\n",
       " 'Straight': '2.5%',\n",
       " 'Full House': '3.8%',\n",
       " 'Flush': '10.95%',\n",
       " 'Pair': '23.25%',\n",
       " 'Two Pair': '26.590000000000003%',\n",
       " 'Three of a kind': '30.5%'}"
      ]
     },
     "execution_count": 243,
     "metadata": {},
     "output_type": "execute_result"
    }
   ],
   "source": [
    "from collections import defaultdict\n",
    "winning_hand_stats = defaultdict(int)\n",
    "n = 10000\n",
    "for _ in range(n):\n",
    "    game = distribute_cards(player_list)\n",
    "    winning_hand_stats[winner_is(game)[1]] += 1\n",
    "{k: str(v/n * 100) + '%' for k, v in sorted(winning_hand_stats.items(), key=lambda item: item[1])}"
   ]
  },
  {
   "cell_type": "code",
   "execution_count": null,
   "metadata": {
    "jupyter": {
     "source_hidden": true
    }
   },
   "outputs": [],
   "source": []
  },
  {
   "cell_type": "code",
   "execution_count": 234,
   "metadata": {},
   "outputs": [
    {
     "data": {
      "text/plain": [
       "'Three of a kind'"
      ]
     },
     "execution_count": 234,
     "metadata": {},
     "output_type": "execute_result"
    }
   ],
   "source": [
    "winner_is(distribute_cards(player_list))[1]"
   ]
  }
 ],
 "metadata": {
  "kernelspec": {
   "display_name": "Python 3",
   "language": "python",
   "name": "python3"
  },
  "language_info": {
   "codemirror_mode": {
    "name": "ipython",
    "version": 3
   },
   "file_extension": ".py",
   "mimetype": "text/x-python",
   "name": "python",
   "nbconvert_exporter": "python",
   "pygments_lexer": "ipython3",
   "version": "3.7.6"
  }
 },
 "nbformat": 4,
 "nbformat_minor": 4
}
