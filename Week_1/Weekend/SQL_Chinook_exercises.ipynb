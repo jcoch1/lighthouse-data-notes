{
 "cells": [
  {
   "cell_type": "markdown",
   "metadata": {},
   "source": [
    "## We will be working with database chinook.db\n",
    "You can download it here: https://drive.google.com/file/d/0Bz9_0VdXvv9bWUtqM0NBYzhKZ3c/view?usp=sharing\n",
    "\n",
    "The\tChinook\tDatabase is\tabout an imaginary video and music store. Each track is\tstored using one of\tthe digital formats and\thas\ta genre. The store has also\tsome playlists,\twhere a single track can be\tpart of several\tplaylists. Orders are recorded\tfor\tcustomers, but are called invoices. Every customer is assigned a support employee, and Employees report to other employees."
   ]
  },
  {
   "cell_type": "code",
   "execution_count": null,
   "metadata": {},
   "outputs": [],
   "source": []
  },
  {
   "cell_type": "code",
   "execution_count": null,
   "metadata": {},
   "outputs": [],
   "source": []
  },
  {
   "cell_type": "markdown",
   "metadata": {},
   "source": [
    "### Which\tartists\tdid\tnot\tmake\tany\talbums\tat\tall?\tInclude\ttheir\tnames\tin your\tanswer."
   ]
  },
  {
   "cell_type": "markdown",
   "metadata": {},
   "source": [
    "### Which\tartists\trecorded\tany\ttracks\tof\tthe\tLatin\tgenre?"
   ]
  },
  {
   "cell_type": "markdown",
   "metadata": {},
   "source": [
    "### Which\tvideo track\thas\tthe\tlongest\tlength?"
   ]
  },
  {
   "cell_type": "markdown",
   "metadata": {},
   "source": [
    "### Find\tthe\tnames\tof\tcustomers\twho\tlive\tin\tthe\tsame\tcity\tas\tthe\ttop\temployee\t(The\tone\tnot\tmanaged\tby\tanyone)."
   ]
  },
  {
   "cell_type": "markdown",
   "metadata": {},
   "source": [
    "### Find\tthe\tmanagers of\temployees\tsupporting\tBrazilian\tcustomers."
   ]
  },
  {
   "cell_type": "markdown",
   "metadata": {},
   "source": [
    "### Which\tplaylists\thave\tno\tLatin\ttracks?"
   ]
  },
  {
   "cell_type": "raw",
   "metadata": {},
   "source": [
    "Question 1:\n",
    "\n",
    "QUERY:\n",
    "select artists.name\n",
    "from artists \n",
    "left outer join albums on artists.artistid = albums.artistid\n",
    "WHERE albums.title IS NULL\n",
    "GROUP BY artists.artistid;\n",
    "\n",
    "RESULT:\n",
    "Name\n",
    "A Cor Do Som\n",
    "Academy of St. Martin in the Fields, Sir Neville Marriner & William Bennett\n",
    "Aerosmith & Sierra Leone's Refugee Allstars\n",
    "Avril Lavigne\n",
    "Azymuth\n",
    "Baby Consuelo\n",
    "Banda Black Rio\n",
    "Barão Vermelho\n",
    "Bebel Gilberto\n",
    "Ben Harper\n",
    "Big & Rich\n",
    "Black Eyed Peas\n",
    "Charlie Brown Jr.\n",
    "Christina Aguilera featuring BigElf\n",
    "Corinne Bailey Rae\n",
    "Dhani Harrison & Jakob Dylan\n",
    "DJ Dolores & Orchestra Santa Massa\n",
    "Edson, DJ Marky & DJ Patife Featuring Fernanda Porto\n",
    "Fernanda Porto\n",
    "Gustavo & Andres Veiga & Salazar\n",
    "Hermeto Pascoal\n",
    "Instituto\n",
    "Jack Johnson\n",
    "Jack's Mannequin & Mick Fleetwood\n",
    "Jackson Browne\n",
    "Jaguares\n",
    "Jorge Vercilo\n",
    "João Gilberto\n",
    "Kid Abelha\n",
    "Los Hermanos\n",
    "Los Lonely Boys\n",
    "Luiz Melodia\n",
    "Matisyahu\n",
    "Milton Nascimento & Bebeto\n",
    "Motörhead & Girlschool\n",
    "Mundo Livre S/A\n",
    "Nando Reis\n",
    "Nação Zumbi\n",
    "Nega Gizza\n",
    "Ney Matogrosso\n",
    "Os Cariocas\n",
    "Otto\n",
    "Pedro Luís & A Parede\n",
    "Pedro Luís E A Parede\n",
    "Peter Tosh\n",
    "R.E.M. Feat. KRS-One\n",
    "Regina Spektor\n",
    "Rodox\n",
    "Sabotage E Instituto\n",
    "Sandra De Sá\n",
    "Santana Feat. Dave Matthews\n",
    "Santana Feat. Eagle-Eye Cherry\n",
    "Santana Feat. Eric Clapton\n",
    "Santana Feat. Everlast\n",
    "Santana Feat. Lauryn Hill & Cee-Lo\n",
    "Santana Feat. Maná\n",
    "Santana Feat. Rob Thomas\n",
    "Santana Feat. The Project G&B\n",
    "Seu Jorge\n",
    "Simply Red\n",
    "Snow Patrol\n",
    "Stereo Maracana\n",
    "The Flaming Lips\n",
    "The Postal Service\n",
    "Vinicius, Toquinho & Quarteto Em Cy\n",
    "Vinícius De Moraes & Baden Powell\n",
    "Vinícius E Odette Lara\n",
    "Vinícius E Qurteto Em Cy\n",
    "Whitesnake\n",
    "Xis\n",
    "Youssou N'Dour\n"
   ]
  },
  {
   "cell_type": "raw",
   "metadata": {},
   "source": [
    "QUESTION 2:\n",
    "\n",
    "QUERY:\n",
    "select artists.name\n",
    "from artists \n",
    "left outer join albums on artists.artistid = albums.artistid\n",
    "JOIN tracks on albums.albumid = tracks.albumid\n",
    "WHERE tracks.genreid = 7\n",
    "GROUP BY artists.artistid,albums.albumid;\n",
    "\n",
    "RESULT:\n",
    "Name\n",
    "Antônio Carlos Jobim\n",
    "Caetano Veloso\n",
    "Caetano Veloso\n",
    "Chico Buarque\n",
    "Chico Science & Nação Zumbi\n",
    "Chico Science & Nação Zumbi\n",
    "Cláudio Zoli\n",
    "Various Artists\n",
    "Various Artists\n",
    "Marcos Valle\n",
    "Gilberto Gil\n",
    "Ed Motta\n",
    "Elis Regina\n",
    "Milton Nascimento\n",
    "Milton Nascimento\n",
    "Jorge Ben\n",
    "Gonzaguinha\n",
    "Vinícius De Moraes\n",
    "Cássia Eller\n",
    "Cássia Eller\n",
    "Djavan\n",
    "Djavan\n",
    "Eric Clapton\n",
    "Falamansa\n",
    "Funk Como Le Gusta\n",
    "Jota Quest\n",
    "Legião Urbana\n",
    "Legião Urbana\n",
    "Lulu Santos\n",
    "Lulu Santos\n",
    "Marisa Monte\n",
    "Olodum\n",
    "Os Paralamas Do Sucesso\n",
    "Os Paralamas Do Sucesso\n",
    "Os Paralamas Do Sucesso\n",
    "Tim Maia\n",
    "Tim Maia\n",
    "Zeca Pagodinho\n",
    "Luciana Souza/Romero Lubambo\n"
   ]
  },
  {
   "cell_type": "raw",
   "metadata": {},
   "source": [
    "QUESTION 3:\n",
    "\n",
    "QUERY:\n",
    "\n",
    "SELECT tracks.name  from tracks\n",
    "WHERE tracks.mediatypeid = 3\n",
    "ORDER BY milliseconds DESC\n",
    "LIMIT 1;\n",
    "\n",
    "RESULT:\n",
    "Name\n",
    "Occupation / Precipice\n"
   ]
  },
  {
   "cell_type": "raw",
   "metadata": {},
   "source": [
    "QUESTION 4:\n",
    "\n",
    "QUERY:\n",
    "SELECT FirstName, LastName from customers\n",
    "WHERE customers.city = (SELECT city from employees WHERE reportsto is NULL);\n",
    "\n",
    "RESULT:\n",
    "FirstName\tLastName\n",
    "Mark\tPhilips\n"
   ]
  },
  {
   "cell_type": "raw",
   "metadata": {},
   "source": [
    "QUESTION 5:\n",
    "\n",
    "QUERY: \n",
    "select employees.FirstName, employees.LastName from customers\n",
    "JOIN employees ON customers.supportrepid = employees.employeeid\n",
    "WHERE customers.country = 'Brazil';\n",
    "\n",
    "RESULT: \n",
    "FirstName\tLastName\n",
    "Jane\tPeacock\n",
    "Margaret\tPark\n",
    "Steve\tJohnson\n",
    "Jane\tPeacock\n",
    "Margaret\tPark\n"
   ]
  },
  {
   "cell_type": "raw",
   "metadata": {},
   "source": [
    "QUESTION 6:\n",
    "\n",
    "QUERY: \n",
    "\n",
    "select playlists.playlistid, playlists.name from playlists\n",
    "JOIN playlist_track ON playlists.playlistid = playlist_track.playlistid\n",
    "JOIN tracks ON tracks.trackid = playlist_track.trackid\n",
    "WHERE tracks.genreid = 7\n",
    "GROUP BY playlists.playlistid;\n",
    "\n",
    "select playlists.playlistid, playlists.name from playlists\n",
    "WHERE playlists.playlistid NOT IN (1,5,8,11) \n",
    "\n",
    "RESULT:\n",
    "\n",
    "PlaylistId\tName\n",
    "2\tMovies\n",
    "3\tTV Shows\n",
    "4\tAudiobooks\n",
    "6\tAudiobooks\n",
    "7\tMovies\n",
    "9\tMusic Videos\n",
    "10\tTV Shows\n",
    "12\tClassical\n",
    "13\tClassical 101 - Deep Cuts\n",
    "14\tClassical 101 - Next Steps\n",
    "15\tClassical 101 - The Basics\n",
    "16\tGrunge\n",
    "17\tHeavy Metal Classic\n",
    "18\tOn-The-Go 1\n",
    "\n"
   ]
  }
 ],
 "metadata": {
  "kernelspec": {
   "display_name": "Python 3",
   "language": "python",
   "name": "python3"
  },
  "language_info": {
   "codemirror_mode": {
    "name": "ipython",
    "version": 3
   },
   "file_extension": ".py",
   "mimetype": "text/x-python",
   "name": "python",
   "nbconvert_exporter": "python",
   "pygments_lexer": "ipython3",
   "version": "3.7.6"
  }
 },
 "nbformat": 4,
 "nbformat_minor": 4
}
